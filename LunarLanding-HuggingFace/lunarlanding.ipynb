{
 "cells": [
  {
   "cell_type": "code",
   "execution_count": null,
   "metadata": {
    "colab": {
     "base_uri": "https://localhost:8080/"
    },
    "executionInfo": {
     "elapsed": 70980,
     "status": "ok",
     "timestamp": 1758702112756,
     "user": {
      "displayName": "PardhuSreeRushiVarma Konduru",
      "userId": "03927624965104513421"
     },
     "user_tz": -330
    },
    "id": "3M2DB173b_AW",
    "outputId": "92b0c358-93c7-4d04-edb0-22b0e672e78c"
   },
   "outputs": [],
   "source": [
    "# Install system dependencies\n",
    "!apt-get install -y swig cmake ffmpeg\n",
    "\n",
    "# Install working versions of pygame and box2d\n",
    "!pip install pygame==2.5.2 box2d-py==2.3.5\n",
    "\n",
    "# Install the other requirements, ignoring the pygame line\n",
    "!pip install stable-baselines3==2.0.0a5 huggingface_sb3 gymnasium==0.28.1"
   ]
  },
  {
   "cell_type": "code",
   "execution_count": null,
   "metadata": {
    "colab": {
     "base_uri": "https://localhost:8080/"
    },
    "executionInfo": {
     "elapsed": 27477,
     "status": "ok",
     "timestamp": 1758702142858,
     "user": {
      "displayName": "PardhuSreeRushiVarma Konduru",
      "userId": "03927624965104513421"
     },
     "user_tz": -330
    },
    "id": "4-FaqklyeC8r",
    "outputId": "3a3e601e-8b5f-44a9-d08b-6c513f493d12"
   },
   "outputs": [],
   "source": [
    "!sudo apt-get update\n",
    "!sudo apt-get install -y python3-opengl\n",
    "!apt install ffmpeg\n",
    "!apt install xvfb\n",
    "!pip3 install pyvirtualdisplay"
   ]
  },
  {
   "cell_type": "code",
   "execution_count": null,
   "metadata": {
    "colab": {
     "base_uri": "https://localhost:8080/"
    },
    "executionInfo": {
     "elapsed": 874,
     "status": "ok",
     "timestamp": 1758702148307,
     "user": {
      "displayName": "PardhuSreeRushiVarma Konduru",
      "userId": "03927624965104513421"
     },
     "user_tz": -330
    },
    "id": "17s6LUH1eWI-",
    "outputId": "402aa448-91a6-4a6d-df1c-af17532713d2"
   },
   "outputs": [],
   "source": [
    "# Virtual display\n",
    "from pyvirtualdisplay import Display\n",
    "\n",
    "virtual_display = Display(visible=0, size=(1400, 900))\n",
    "virtual_display.start()"
   ]
  },
  {
   "cell_type": "code",
   "execution_count": null,
   "metadata": {
    "colab": {
     "base_uri": "https://localhost:8080/"
    },
    "executionInfo": {
     "elapsed": 9745,
     "status": "ok",
     "timestamp": 1758702160624,
     "user": {
      "displayName": "PardhuSreeRushiVarma Konduru",
      "userId": "03927624965104513421"
     },
     "user_tz": -330
    },
    "id": "K9aLWz29ee8v",
    "outputId": "66445d17-31f3-4064-8a60-1fcbbf3dd5a8"
   },
   "outputs": [],
   "source": [
    "import gymnasium\n",
    "\n",
    "from huggingface_sb3 import load_from_hub, package_to_hub\n",
    "from huggingface_hub import notebook_login # To log to our Hugging Face account to be able to upload models to the Hub.\n",
    "\n",
    "from stable_baselines3 import PPO\n",
    "from stable_baselines3.common.env_util import make_vec_env\n",
    "from stable_baselines3.common.evaluation import evaluate_policy\n",
    "from stable_baselines3.common.monitor import Monitor"
   ]
  },
  {
   "cell_type": "code",
   "execution_count": null,
   "metadata": {
    "colab": {
     "base_uri": "https://localhost:8080/"
    },
    "executionInfo": {
     "elapsed": 431,
     "status": "ok",
     "timestamp": 1758702165368,
     "user": {
      "displayName": "PardhuSreeRushiVarma Konduru",
      "userId": "03927624965104513421"
     },
     "user_tz": -330
    },
    "id": "radM79SAfOMb",
    "outputId": "15e467ee-10d6-456b-f197-52467e064bc5"
   },
   "outputs": [],
   "source": [
    "import gymnasium as gym\n",
    "\n",
    "# First, we create our environment called LunarLander-v2\n",
    "env = gym.make(\"LunarLander-v2\")\n",
    "\n",
    "# Then we reset this environment\n",
    "observation, info = env.reset()\n",
    "\n",
    "for _ in range(20):\n",
    "  # Take a random action\n",
    "  action = env.action_space.sample()\n",
    "  print(\"Action taken:\", action)\n",
    "\n",
    "  # Do this action in the environment and get\n",
    "  # next_state, reward, terminated, truncated and info\n",
    "  observation, reward, terminated, truncated, info = env.step(action)\n",
    "\n",
    "  # If the game is terminated (in our case we land, crashed) or truncated (timeout)\n",
    "  if terminated or truncated:\n",
    "      # Reset the environment\n",
    "      print(\"Environment is reset\")\n",
    "      observation, info = env.reset()\n",
    "\n",
    "env.close()"
   ]
  },
  {
   "cell_type": "code",
   "execution_count": null,
   "metadata": {
    "colab": {
     "base_uri": "https://localhost:8080/"
    },
    "executionInfo": {
     "elapsed": 7,
     "status": "ok",
     "timestamp": 1758702169853,
     "user": {
      "displayName": "PardhuSreeRushiVarma Konduru",
      "userId": "03927624965104513421"
     },
     "user_tz": -330
    },
    "id": "ZNPG0g_UGCfh",
    "outputId": "ec3189a6-63b4-422a-a7b3-14cf606c25b5"
   },
   "outputs": [],
   "source": [
    "# We create our environment with gym.make(\"<name_of_the_environment>\")\n",
    "env = gym.make(\"LunarLander-v2\")\n",
    "env.reset()\n",
    "print(\"_____OBSERVATION SPACE_____ \\n\")\n",
    "print(\"Observation Space Shape\", env.observation_space.shape)\n",
    "print(\"Sample observation\", env.observation_space.sample()) # Get a random observation"
   ]
  },
  {
   "cell_type": "code",
   "execution_count": null,
   "metadata": {
    "colab": {
     "base_uri": "https://localhost:8080/"
    },
    "executionInfo": {
     "elapsed": 22,
     "status": "ok",
     "timestamp": 1758702173226,
     "user": {
      "displayName": "PardhuSreeRushiVarma Konduru",
      "userId": "03927624965104513421"
     },
     "user_tz": -330
    },
    "id": "We5WqOBGLoSm",
    "outputId": "f0487e1e-2dbd-46ea-c1ab-1dc1e23fc847"
   },
   "outputs": [],
   "source": [
    "print(\"\\n _____ACTION SPACE_____ \\n\")\n",
    "print(\"Action Space Shape\", env.action_space.n)\n",
    "print(\"Action Space Sample\", env.action_space.sample()) # Take a random action"
   ]
  },
  {
   "cell_type": "code",
   "execution_count": null,
   "metadata": {
    "executionInfo": {
     "elapsed": 24,
     "status": "ok",
     "timestamp": 1758702175978,
     "user": {
      "displayName": "PardhuSreeRushiVarma Konduru",
      "userId": "03927624965104513421"
     },
     "user_tz": -330
    },
    "id": "JWXs5F0vg00G"
   },
   "outputs": [],
   "source": [
    "# Create the environment\n",
    "env = make_vec_env('LunarLander-v2', n_envs=16)"
   ]
  },
  {
   "cell_type": "code",
   "execution_count": null,
   "metadata": {
    "colab": {
     "base_uri": "https://localhost:8080/"
    },
    "executionInfo": {
     "elapsed": 440492,
     "status": "ok",
     "timestamp": 1758702619796,
     "user": {
      "displayName": "PardhuSreeRushiVarma Konduru",
      "userId": "03927624965104513421"
     },
     "user_tz": -330
    },
    "id": "fUoZOz6qhBvG",
    "outputId": "ab759e07-0022-4292-9d9d-0eb91fc4b201"
   },
   "outputs": [],
   "source": [
    "# Create environment\n",
    "env = gym.make('LunarLander-v2')\n",
    "\n",
    "# Instantiate the agent\n",
    "model = PPO('MlpPolicy', env, verbose=1)\n",
    "# Train the agent\n",
    "model.learn(total_timesteps=int(2e5))"
   ]
  },
  {
   "cell_type": "code",
   "execution_count": null,
   "metadata": {
    "colab": {
     "base_uri": "https://localhost:8080/"
    },
    "executionInfo": {
     "elapsed": 110,
     "status": "ok",
     "timestamp": 1758702824877,
     "user": {
      "displayName": "PardhuSreeRushiVarma Konduru",
      "userId": "03927624965104513421"
     },
     "user_tz": -330
    },
    "id": "AVrSS_S5hIMs",
    "outputId": "1c06385b-0208-45ed-eb86-8da8dd25e616"
   },
   "outputs": [],
   "source": [
    "# SOLUTION\n",
    "# We added some parameters to accelerate the training...\n",
    "model = PPO(\n",
    "    policy = 'MlpPolicy',\n",
    "    env = env,\n",
    "    n_steps = 1024,\n",
    "    batch_size = 64,\n",
    "    n_epochs = 4,\n",
    "    gamma = 0.999,\n",
    "    gae_lambda = 0.98,\n",
    "    ent_coef = 0.01,\n",
    "    verbose=1)"
   ]
  },
  {
   "cell_type": "code",
   "execution_count": null,
   "metadata": {
    "colab": {
     "base_uri": "https://localhost:8080/"
    },
    "id": "hQClEf9AhQhp",
    "outputId": "fe42fdba-c3e4-4144-d0ec-8c0f2f264da3"
   },
   "outputs": [],
   "source": [
    "# SOLUTION\n",
    "# Train it for 1,000,000 timesteps\n",
    "model.learn(total_timesteps=1000000)\n",
    "# Save the model\n",
    "model_name = \"ppo-LunarLander-v2\"\n",
    "model.save(model_name)"
   ]
  },
  {
   "cell_type": "code",
   "execution_count": null,
   "metadata": {
    "colab": {
     "base_uri": "https://localhost:8080/"
    },
    "executionInfo": {
     "elapsed": 3370,
     "status": "ok",
     "timestamp": 1758704915713,
     "user": {
      "displayName": "PardhuSreeRushiVarma Konduru",
      "userId": "03927624965104513421"
     },
     "user_tz": -330
    },
    "id": "PTeFEy65hWRB",
    "outputId": "94580733-62e5-42db-8321-719bafb567f3"
   },
   "outputs": [],
   "source": [
    "#@title\n",
    "eval_env = Monitor(gym.make(\"LunarLander-v2\", render_mode='rgb_array'))\n",
    "mean_reward, std_reward = evaluate_policy(model, eval_env, n_eval_episodes=10, deterministic=True)\n",
    "print(f\"mean_reward={mean_reward:.2f} +/- {std_reward}\")"
   ]
  },
  {
   "cell_type": "code",
   "execution_count": null,
   "metadata": {
    "executionInfo": {
     "elapsed": 20309,
     "status": "ok",
     "timestamp": 1758705221169,
     "user": {
      "displayName": "PardhuSreeRushiVarma Konduru",
      "userId": "03927624965104513421"
     },
     "user_tz": -330
    },
    "id": "KFz45Izm_Mmq"
   },
   "outputs": [],
   "source": [
    "demo_env = gym.make(\"LunarLander-v2\", render_mode=\"human\")\n",
    "obs, info = demo_env.reset()  # <- unpack here\n",
    "\n",
    "for _ in range(1000):\n",
    "    action, _ = model.predict(obs, deterministic=True)\n",
    "    obs, reward, terminated, truncated, info = demo_env.step(action)\n",
    "    if terminated or truncated:\n",
    "        obs, info = demo_env.reset()  # <- unpack again\n",
    "\n",
    "demo_env.close()"
   ]
  },
  {
   "cell_type": "code",
   "execution_count": null,
   "metadata": {
    "colab": {
     "base_uri": "https://localhost:8080/",
     "height": 72,
     "referenced_widgets": [
      "96deffee31a143d6bc9c1b2a79853628",
      "730bae16eb014d39b0073be64adb4a70",
      "cca57d8b2ca748d783e9dea1b2e99489",
      "6860eb7a9e0344e3b5ae42de24719709",
      "52cd5233ee504524a47aebe3adf16299",
      "0b43851ff17e4dd580d457840689b3aa",
      "bbdb3f2d49194c4da43a8f7a9616bbb6",
      "bb093b17d9a14a428c67d812cabb98f7",
      "64d035f4dcab47bf97fce1fa2ff9b5f7",
      "2e26ca139cc44d728d74289270ebf877",
      "2f96dc0281414425a557ec71134eb29e",
      "1c305d405b644053884ed8141d548f13",
      "12a943af1b4f4f6e94bcb52d4ea73870",
      "660f53110ee949388c82aa3d13db2442",
      "81ace94845c9448b9fbc5db7b9f0ede5",
      "78e7b5b3d5214cd6835531dbcfb627ad",
      "36177657d5d94c2f99607d5f3e9cf701",
      "20330bb184db4a4493c199276cdebe19",
      "b3cd6c1892b949d78cdbcab926c4c3e0",
      "89f13822d70f4eb2be052b0cb61e8be3"
     ]
    },
    "executionInfo": {
     "elapsed": 387,
     "status": "ok",
     "timestamp": 1758705345823,
     "user": {
      "displayName": "PardhuSreeRushiVarma Konduru",
      "userId": "03927624965104513421"
     },
     "user_tz": -330
    },
    "id": "zFBlPyIgAa_9",
    "outputId": "21810f5e-a1ff-4086-a32a-7ba6dff2c208"
   },
   "outputs": [],
   "source": [
    "notebook_login()\n",
    "!git config --global credential.helper store"
   ]
  },
  {
   "cell_type": "code",
   "execution_count": null,
   "metadata": {
    "colab": {
     "base_uri": "https://localhost:8080/",
     "height": 730,
     "referenced_widgets": [
      "bdd76797ad0e457384745692f174fba4",
      "b53330f213d24ee1a553a0f94beb5776",
      "309b9fd3d58c452f8dd5050f377a530a",
      "c0a36a11897a41fb95a8231e32f70b96",
      "95e2bb85d1b24070a5f518c48585427b",
      "26912f7d3e704f8bbfaea4a2849f04f7",
      "593e5c4830dd4a288bd8f99b600cd72d",
      "ec4c59395f04455abb97827c2e9f4228",
      "dfe63b7191164cda9ceb16325482ac2a",
      "cb48ddd238e0414abcdb648451d4e5d0",
      "9e9d238f3361449c9132a49965e052e6",
      "0076854cd27f40be960b527a7da16c5c",
      "78900db1e07e4920b6c3fa016b7dd695",
      "b01d19244fc344e286345195f29cac5e",
      "4d21b06a18ea4cba85cfcf0440b5e645",
      "21aa5d5d1e4640ea8bbdce9615d44857",
      "a334d7d9823d4819bca42a3889f5324a",
      "4ef7f3a09dce41b2957fd056b4f4f4f0",
      "29068de371a1481eba42cdd6ce75e652",
      "d6fd436953874208a9fe95a2b856fe5d",
      "88e787ec9e8c456daade81646d74f36c",
      "d7162d7d5f1f4ee0b128b58dc1f99bfb",
      "6222b869cb214accb57e2a5dedee0761",
      "8635875edbfb4625a01a5e290edd4fe6",
      "514a8e50d1e54523bcc0ef064f4c8133",
      "e0db517912494572a272746e6682da0e",
      "903605c8f62f417b8b1ee36a2b41e330",
      "fada412fa99f40889cace909a9fe8430",
      "fef1d458c49c4980a2ce0d3d207de020",
      "5531045477e64bb2b8d938bf6d59dbba",
      "a4db044592464b5abdf0b797a115231e",
      "29c7419f834241ed80a5f629c26cf53a",
      "5ffed464fa4b4518ae55260354568508",
      "4a1fd7d67e2a4be3b02a6b6317159a10",
      "12cd8f70522048f085fbdd22ea8bf2a2",
      "6ab3606253bd41bc933ee33aad951eff",
      "cd79d837cee645dda7ba3d861115a96e",
      "b562ed9bf5144a9d8f3ef90beabbf564",
      "10c85473224e473e9bbcd3b29690fa6f",
      "a935de5a0e9942df8f95a413c3aad895",
      "68182b376b4a45078f9e16e36ed987e1",
      "115bd0923a614e69a919675604ec9e90",
      "94e57462bbd6470fb5293f892d6bbeae",
      "69ed5999d2f54bd6a5b39fd91025a0c0",
      "b56df652acee4758b452f4ec6bbcc54a",
      "e26058e7576b4462aaa713c9bce09a93",
      "e045b30497a84a7fb3631baabcfd26bb",
      "0de0eba2ef554d9297064cbf7cb4fe2b",
      "ffda474acee4464a8965cb25510db1e4",
      "399f3efbce6a4269b081ea3549877b6b",
      "98278ac923a84ec696a1bfa65ee36d4a",
      "e38b098bc10d45a3a5bccc4823b9a8b0",
      "72407f6a12ee435d833cbec3fca7cf5a",
      "7741359b1a314be8b332f9c28996cf4b",
      "2e5cad3a931647c492a798d96c6f0f75",
      "b01ce6f2f1894065833752fc929c5101",
      "ca03d589068b4654a5eb4a00ff8c4a74",
      "2931c5bf453146f2b2e4aa40115e4900",
      "585e99006a9242628d74cce4f8ebce96",
      "d2c936e7f1824133b335702f4a3b3bc7",
      "9c3a6653f67d48069d54485ce5b2d753",
      "ede5d3a0220a45338c8d38c3c89c3414",
      "523266661f2b4ef2be965f1e5eb3594d",
      "2a1f560e134846cfa07bf6d1145f1f61",
      "65123efe78d344b78b876ec695ff8a14",
      "7d8cfcae291b4fe394bb7e397822cfb4",
      "602c86b0fb8e44de83a34f3c286e81dd",
      "ca5aa4f01f294fb5818e27a69d07020f",
      "036382c06f0e432dbde4d927b3f48530",
      "a29f30bc293a4528b78bdc7c49938a39",
      "5e95d59057054da3890c2080e0bb0a1e",
      "aeb73566731640f8a698d7e33506739c",
      "1338508d08d34829ae5f2049afafea50",
      "5a73a684398b4359b6c1c1b5a08a76bd",
      "bc26fe74f16444469077cd9a19eb4386",
      "9f63aff041a84f1f8202a4d669c73a26",
      "326fd57ec01b4c349daa756b2bd260f1"
     ]
    },
    "executionInfo": {
     "elapsed": 21321,
     "status": "ok",
     "timestamp": 1758705481479,
     "user": {
      "displayName": "PardhuSreeRushiVarma Konduru",
      "userId": "03927624965104513421"
     },
     "user_tz": -330
    },
    "id": "JYCL7k_fAvD5",
    "outputId": "b86dd15d-ce56-4761-ccef-ba7e6f873e6d"
   },
   "outputs": [],
   "source": [
    "import gymnasium as gym\n",
    "\n",
    "from stable_baselines3 import PPO\n",
    "from stable_baselines3.common.vec_env import DummyVecEnv\n",
    "from stable_baselines3.common.env_util import make_vec_env\n",
    "\n",
    "from huggingface_sb3 import package_to_hub\n",
    "\n",
    "# PLACE the variables you've just defined two cells above\n",
    "# Define the name of the environment\n",
    "env_id = \"LunarLander-v2\"\n",
    "\n",
    "# TODO: Define the model architecture we used\n",
    "model_architecture = \"PPO\"\n",
    "\n",
    "## Define a repo_id\n",
    "## repo_id is the id of the model repository from the Hugging Face Hub (repo_id = {organization}/{repo_name} for instance ThomasSimonini/ppo-LunarLander-v2\n",
    "## CHANGE WITH YOUR REPO ID\n",
    "repo_id = \"VarmaHF/ppo-LunarLander-v2\" # Change with your repo id, you can't push with mine 😄\n",
    "\n",
    "## Define the commit message\n",
    "commit_message = \"Upload PPO LunarLander-v2 trained agent\"\n",
    "\n",
    "# Create the evaluation env and set the render_mode=\"rgb_array\"\n",
    "eval_env = DummyVecEnv([lambda: gym.make(env_id, render_mode=\"rgb_array\")])\n",
    "\n",
    "# PLACE the package_to_hub function you've just filled here\n",
    "package_to_hub(model=model, # Our trained model\n",
    "               model_name=model_name, # The name of our trained model\n",
    "               model_architecture=model_architecture, # The model architecture we used: in our case PPO\n",
    "               env_id=env_id, # Name of the environment\n",
    "               eval_env=eval_env, # Evaluation Environment\n",
    "               repo_id=repo_id, # id of the model repository from the Hugging Face Hub (repo_id = {organization}/{repo_name} for instance ThomasSimonini/ppo-LunarLander-v2\n",
    "               commit_message=commit_message)"
   ]
  }
 ],
 "metadata": {
  "accelerator": "GPU",
  "colab": {
   "authorship_tag": "ABX9TyMSFtwzAALwuBGG+2R0VdAl",
   "gpuType": "T4",
   "provenance": []
  },
  "kernelspec": {
   "display_name": "Python 3",
   "name": "python3"
  },
  "language_info": {
   "name": "python"
  }
 },
 "nbformat": 4,
 "nbformat_minor": 0
}
