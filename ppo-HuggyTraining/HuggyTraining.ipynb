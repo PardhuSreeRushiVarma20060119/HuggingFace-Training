{
 "cells": [
  {
   "cell_type": "code",
   "execution_count": null,
   "metadata": {
    "executionInfo": {
     "elapsed": 9897,
     "status": "ok",
     "timestamp": 1758799300859,
     "user": {
      "displayName": "PardhuSreeRushiVarma Konduru",
      "userId": "03927624965104513421"
     },
     "user_tz": -330
    },
    "id": "9REiUa11mnT9"
   },
   "outputs": [],
   "source": [
    "%%capture\n",
    "# Clone the repository (can take 3min)\n",
    "!git clone --depth 1 https://github.com/Unity-Technologies/ml-agents"
   ]
  },
  {
   "cell_type": "code",
   "execution_count": null,
   "metadata": {
    "colab": {
     "base_uri": "https://localhost:8080/"
    },
    "executionInfo": {
     "elapsed": 228,
     "status": "ok",
     "timestamp": 1758799304607,
     "user": {
      "displayName": "PardhuSreeRushiVarma Konduru",
      "userId": "03927624965104513421"
     },
     "user_tz": -330
    },
    "id": "TW3n9t7jm2G1",
    "outputId": "c890847f-3a68-4c11-f3f1-ba1a584088be"
   },
   "outputs": [],
   "source": [
    "# Colab's Current Python Version (Incompatible with ML-Agents)\n",
    "!python --version"
   ]
  },
  {
   "cell_type": "code",
   "execution_count": null,
   "metadata": {
    "colab": {
     "base_uri": "https://localhost:8080/"
    },
    "executionInfo": {
     "elapsed": 29640,
     "status": "ok",
     "timestamp": 1758799343102,
     "user": {
      "displayName": "PardhuSreeRushiVarma Konduru",
      "userId": "03927624965104513421"
     },
     "user_tz": -330
    },
    "id": "pITVSOI9m5Y4",
    "outputId": "bd7b297b-d1d1-4362-c8a7-3bdb1421eb12"
   },
   "outputs": [],
   "source": [
    "# Install virtualenv and create a virtual environment\n",
    "!pip install virtualenv\n",
    "!virtualenv myenv\n",
    "\n",
    "# Download and install Miniconda\n",
    "!wget https://repo.anaconda.com/miniconda/Miniconda3-latest-Linux-x86_64.sh\n",
    "!chmod +x Miniconda3-latest-Linux-x86_64.sh\n",
    "!./Miniconda3-latest-Linux-x86_64.sh -b -f -p /usr/local\n",
    "\n",
    "# Activate Miniconda and install Python ver 3.10.12\n",
    "!source /usr/local/bin/activate\n",
    "!conda install -q -y --prefix /usr/local python=3.10.12 ujson  # Specify the version here\n",
    "\n",
    "# Set environment variables for Python and conda paths\n",
    "!export PYTHONPATH=/usr/local/lib/python3.10/site-packages/\n",
    "!export CONDA_PREFIX=/usr/local/envs/myenv"
   ]
  },
  {
   "cell_type": "code",
   "execution_count": null,
   "metadata": {
    "colab": {
     "base_uri": "https://localhost:8080/"
    },
    "executionInfo": {
     "elapsed": 161,
     "status": "ok",
     "timestamp": 1758799380800,
     "user": {
      "displayName": "PardhuSreeRushiVarma Konduru",
      "userId": "03927624965104513421"
     },
     "user_tz": -330
    },
    "id": "aWUcwmCjnIme",
    "outputId": "7a830733-c5c0-46a7-d9d2-e7e2b997b6a3"
   },
   "outputs": [],
   "source": [
    "# Python Version in New Virtual Environment (Compatible with ML-Agents)\n",
    "!python --version"
   ]
  },
  {
   "cell_type": "code",
   "execution_count": null,
   "metadata": {
    "colab": {
     "base_uri": "https://localhost:8080/"
    },
    "executionInfo": {
     "elapsed": 1314,
     "status": "ok",
     "timestamp": 1758799451617,
     "user": {
      "displayName": "PardhuSreeRushiVarma Konduru",
      "userId": "03927624965104513421"
     },
     "user_tz": -330
    },
    "id": "JSWDIP0XnWKn",
    "outputId": "c4bd6691-0c35-4aef-a4ff-d7586a515636"
   },
   "outputs": [],
   "source": [
    "!conda tos accept --override-channels --channel https://repo.anaconda.com/pkgs/main\n",
    "!conda tos accept --override-channels --channel https://repo.anaconda.com/pkgs/r"
   ]
  },
  {
   "cell_type": "code",
   "execution_count": null,
   "metadata": {
    "colab": {
     "base_uri": "https://localhost:8080/"
    },
    "executionInfo": {
     "elapsed": 9877,
     "status": "ok",
     "timestamp": 1758799568332,
     "user": {
      "displayName": "PardhuSreeRushiVarma Konduru",
      "userId": "03927624965104513421"
     },
     "user_tz": -330
    },
    "id": "KJt9uyTMnehy",
    "outputId": "54b45e86-503b-44a8-9531-f6155e1ff691"
   },
   "outputs": [],
   "source": [
    "# Create a conda environment with Python 3.10\n",
    "!conda create -n myvenv python=3.10.12 -y"
   ]
  },
  {
   "cell_type": "code",
   "execution_count": null,
   "metadata": {
    "colab": {
     "base_uri": "https://localhost:8080/"
    },
    "executionInfo": {
     "elapsed": 216663,
     "status": "ok",
     "timestamp": 1758799989727,
     "user": {
      "displayName": "PardhuSreeRushiVarma Konduru",
      "userId": "03927624965104513421"
     },
     "user_tz": -330
    },
    "id": "ZzfX0x5an5s-",
    "outputId": "422fdbc1-e253-4a19-d34c-b57a3e969cdf"
   },
   "outputs": [],
   "source": [
    "# Install ml-agents-envs first\n",
    "%cd /content/ml-agents/ml-agents-envs\n",
    "!conda run -n myvenv pip install -e .\n",
    "\n",
    "# Then install ml-agents\n",
    "%cd /content/ml-agents/ml-agents\n",
    "!conda run -n myvenv pip install -e ."
   ]
  },
  {
   "cell_type": "code",
   "execution_count": null,
   "metadata": {
    "executionInfo": {
     "elapsed": 216,
     "status": "ok",
     "timestamp": 1758800008716,
     "user": {
      "displayName": "PardhuSreeRushiVarma Konduru",
      "userId": "03927624965104513421"
     },
     "user_tz": -330
    },
    "id": "Icd-CgrlpiUn"
   },
   "outputs": [],
   "source": [
    "!mkdir ./trained-envs-executables\n",
    "!mkdir ./trained-envs-executables/linux"
   ]
  },
  {
   "cell_type": "code",
   "execution_count": null,
   "metadata": {
    "colab": {
     "base_uri": "https://localhost:8080/"
    },
    "executionInfo": {
     "elapsed": 3124,
     "status": "ok",
     "timestamp": 1758800023887,
     "user": {
      "displayName": "PardhuSreeRushiVarma Konduru",
      "userId": "03927624965104513421"
     },
     "user_tz": -330
    },
    "id": "4FUDnjWiplSy",
    "outputId": "8070f805-7f15-4590-b703-76d9b3664e84"
   },
   "outputs": [],
   "source": [
    "!wget \"https://github.com/huggingface/Huggy/raw/main/Huggy.zip\" -O ./trained-envs-executables/linux/Huggy.zip"
   ]
  },
  {
   "cell_type": "code",
   "execution_count": null,
   "metadata": {
    "executionInfo": {
     "elapsed": 1117,
     "status": "ok",
     "timestamp": 1758800034886,
     "user": {
      "displayName": "PardhuSreeRushiVarma Konduru",
      "userId": "03927624965104513421"
     },
     "user_tz": -330
    },
    "id": "GeAY_ewNpoSX"
   },
   "outputs": [],
   "source": [
    "%%capture\n",
    "!unzip -d ./trained-envs-executables/linux/ ./trained-envs-executables/linux/Huggy.zip"
   ]
  },
  {
   "cell_type": "code",
   "execution_count": null,
   "metadata": {
    "executionInfo": {
     "elapsed": 110,
     "status": "ok",
     "timestamp": 1758801778283,
     "user": {
      "displayName": "PardhuSreeRushiVarma Konduru",
      "userId": "03927624965104513421"
     },
     "user_tz": -330
    },
    "id": "Hvjk0kIhprdi"
   },
   "outputs": [],
   "source": [
    "!chmod -R 755 ./trained-envs-executables/linux/Huggy"
   ]
  },
  {
   "cell_type": "code",
   "execution_count": null,
   "metadata": {
    "colab": {
     "base_uri": "https://localhost:8080/"
    },
    "executionInfo": {
     "elapsed": 2794585,
     "status": "ok",
     "timestamp": 1758804974841,
     "user": {
      "displayName": "PardhuSreeRushiVarma Konduru",
      "userId": "03927624965104513421"
     },
     "user_tz": -330
    },
    "id": "6OV6klwWwXtL",
    "outputId": "5043ac46-5104-493f-fa63-a5ab9d359d22"
   },
   "outputs": [],
   "source": [
    "!conda run -n myvenv mlagents-learn /content/ml-agents/config/ppo/Huggy.yaml --env=./trained-envs-executables/linux/Huggy/Huggy --run-id=\"Huggy\" --no-graphics"
   ]
  },
  {
   "cell_type": "code",
   "execution_count": null,
   "metadata": {
    "colab": {
     "base_uri": "https://localhost:8080/",
     "height": 17,
     "referenced_widgets": [
      "0ce059798a644534a3247b6b25daae5c",
      "6b03a0a57e1a402792f7e845abfe4e31",
      "5a4cc7b272cf44c3981e5845023f4dbe",
      "7b5bf29266174ef7954c559a71eeb6e1",
      "5fb4a7c927874155ba97a88f743f74aa",
      "89faa7c5708e4ac98f2d4c86b5840ce1",
      "7819f715c20a4cec973b043b3cabbabe",
      "869b741d26854b79bc029ebb66513a85",
      "8d1f9effad13410c84aa51616209bfa0",
      "f715b15a76824ceb89ebf0bcd2a829a2",
      "98eb8f58bd8c42d7a2903ca984cf7390",
      "313ac4e96fd147219dab8b79a5d1d604",
      "a8d90d9a4ca64a8895f476f0d18404bb",
      "06e1ba3124234922b5f7b0a64492a6f5",
      "44ebbfdf759847af8596a392c11045da",
      "98eb5e4e4f564d07a6edb8f2fa4e5ee6",
      "c13b3df83aee4872af0ca194e90f34d9",
      "c81d9b8d0a0f467095acce376bdc1a7b",
      "d85702b387c2453abf713d9ad50c134c",
      "d33c6428e2824795a50c1f0aa9722ea9"
     ]
    },
    "executionInfo": {
     "elapsed": 311,
     "status": "ok",
     "timestamp": 1758805457133,
     "user": {
      "displayName": "PardhuSreeRushiVarma Konduru",
      "userId": "03927624965104513421"
     },
     "user_tz": -330
    },
    "id": "AlGKCgkB-K6D",
    "outputId": "94d8b2ec-2e0e-4682-e4eb-0f821f19e3bc"
   },
   "outputs": [],
   "source": [
    "from huggingface_hub import notebook_login\n",
    "notebook_login()"
   ]
  },
  {
   "cell_type": "code",
   "execution_count": null,
   "metadata": {
    "colab": {
     "base_uri": "https://localhost:8080/"
    },
    "executionInfo": {
     "elapsed": 16832,
     "status": "ok",
     "timestamp": 1758805703291,
     "user": {
      "displayName": "PardhuSreeRushiVarma Konduru",
      "userId": "03927624965104513421"
     },
     "user_tz": -330
    },
    "id": "JDBni4vP-mNI",
    "outputId": "7e2f642b-6578-4b3a-c7b8-2032f9ac5bcc"
   },
   "outputs": [],
   "source": [
    "!conda run -n myvenv mlagents-push-to-hf \\\n",
    "  --run-id=\"HuggyTraining\" \\\n",
    "  --local-dir=\"./results/Huggy\" \\\n",
    "  --repo-id=\"VarmaHF/ppo-HuggyTraining\" \\\n",
    "  --commit-message=\"Huggy\""
   ]
  }
 ],
 "metadata": {
  "accelerator": "GPU",
  "colab": {
   "authorship_tag": "ABX9TyO/y09YgY/4TMJXIWXKBnK6",
   "gpuType": "T4",
   "provenance": []
  },
  "kernelspec": {
   "display_name": "Python 3",
   "name": "python3"
  },
  "language_info": {
   "name": "python"
  }
 },
 "nbformat": 4,
 "nbformat_minor": 0
}
